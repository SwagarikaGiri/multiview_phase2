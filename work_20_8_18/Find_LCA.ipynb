{
 "cells": [
  {
   "cell_type": "code",
   "execution_count": 1,
   "metadata": {},
   "outputs": [
    {
     "name": "stdout",
     "output_type": "stream",
     "text": [
      "../go-basic.obo: fmt(1.2) rel(2018-08-03) 47,289 GO Terms\n",
      "  READ      234,052 associations: gene_association.tair\n",
      "6 Assc. GO IDs not found in the GODag\n",
      "\n"
     ]
    }
   ],
   "source": [
    "%load_ext autoreload\n",
    "%autoreload 2\n",
    "import csv\n",
    "import sys\n",
    "\n",
    "sys.path.insert(0, \"..\")\n",
    "from goatools import obo_parser\n",
    "\n",
    "go = obo_parser.GODag(\"../go-basic.obo\")\n",
    "import pandas as pd\n",
    "from goatools.associations import read_gaf\n",
    "\n",
    "associations = read_gaf(\"gene_association.tair\")\n",
    "from goatools.semantic import TermCounts, get_info_content\n",
    "\n",
    "# First get the counts of each GO term.\n",
    "termcounts = TermCounts(go, associations)"
   ]
  },
  {
   "cell_type": "code",
   "execution_count": null,
   "metadata": {},
   "outputs": [],
   "source": []
  }
 ],
 "metadata": {
  "kernelspec": {
   "display_name": "Python 2",
   "language": "python",
   "name": "python2"
  },
  "language_info": {
   "codemirror_mode": {
    "name": "ipython",
    "version": 2
   },
   "file_extension": ".py",
   "mimetype": "text/x-python",
   "name": "python",
   "nbconvert_exporter": "python",
   "pygments_lexer": "ipython2",
   "version": "2.7.15"
  }
 },
 "nbformat": 4,
 "nbformat_minor": 2
}
